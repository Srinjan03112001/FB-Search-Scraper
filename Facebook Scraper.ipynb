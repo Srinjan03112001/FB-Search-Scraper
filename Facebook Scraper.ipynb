{
 "cells": [
  {
   "cell_type": "code",
   "execution_count": 235,
   "id": "25b44274",
   "metadata": {},
   "outputs": [],
   "source": [
    "from selenium.common.exceptions import NoSuchElementException\n",
    "\n",
    "from selenium import webdriver\n",
    "#from selenium.webdriver import ChromeOptions\n",
    "from time import sleep\n",
    "import time\n",
    "from selenium.webdriver.support.wait import WebDriverWait\n",
    "from selenium.webdriver.common.keys import Keys\n",
    "from selenium.webdriver.support import expected_conditions as EC\n",
    "from selenium.webdriver.common.by import By"
   ]
  },
  {
   "cell_type": "code",
   "execution_count": 90,
   "id": "4b8a5f0e",
   "metadata": {},
   "outputs": [],
   "source": [
    "# Path to the Firefox browser binary\n",
    "firefox_binary_path = \"C:/Program Files (x86)/Mozilla Firefox/firefox.exe\"\n",
    "\n",
    "# Path to the GeckoDriver executable\n",
    "geckodriver_path = \"C:/Users/User/Downloads/geckodriver-v0.34.0-win32/geckodriver.exe\"\n",
    "\n",
    "# Set up Firefox options\n",
    "firefox_options = webdriver.FirefoxOptions()\n",
    "firefox_options.binary_location = firefox_binary_path"
   ]
  },
  {
   "cell_type": "code",
   "execution_count": 338,
   "id": "76a2b24b",
   "metadata": {},
   "outputs": [
    {
     "name": "stderr",
     "output_type": "stream",
     "text": [
      "C:\\Users\\User\\AppData\\Local\\Temp\\ipykernel_7036\\4262952948.py:2: DeprecationWarning: executable_path has been deprecated, please pass in a Service object\n",
      "  driver = webdriver.Firefox(executable_path=geckodriver_path, options=firefox_options)\n"
     ]
    },
    {
     "name": "stdout",
     "output_type": "stream",
     "text": [
      "Log in to Facebook\n"
     ]
    }
   ],
   "source": [
    "# Create Firefox WebDriver with specified options and GeckoDriver executable path\n",
    "driver = webdriver.Firefox(executable_path=geckodriver_path, options=firefox_options)\n",
    "\n",
    "# Navigate to Google's homepage\n",
    "driver.get('https://www.facebook.com/login/')\n",
    "\n",
    "# Print the title of the webpage\n",
    "print(driver.title)\n",
    "\n",
    "driver.maximize_window()"
   ]
  },
  {
   "cell_type": "code",
   "execution_count": 339,
   "id": "21513668",
   "metadata": {},
   "outputs": [
    {
     "name": "stdout",
     "output_type": "stream",
     "text": [
      "Login Successfull !!\n"
     ]
    }
   ],
   "source": [
    "#target username\n",
    "username = WebDriverWait(driver, 10).until(EC.element_to_be_clickable((By.CSS_SELECTOR, \"input[name='email']\")))\n",
    "password = WebDriverWait(driver, 10).until(EC.element_to_be_clickable((By.CSS_SELECTOR, \"input[name='pass']\")))\n",
    "\n",
    "#enter username and password and use your own dummy account\n",
    "username.clear()\n",
    "username.send_keys(\"dummmy@example.com\")\n",
    "password.clear()\n",
    "password.send_keys(\"********\")\n",
    "\n",
    "time.sleep(2)\n",
    "\n",
    "#target the login button and click it\n",
    "button = WebDriverWait(driver, 2).until(EC.element_to_be_clickable((By.CSS_SELECTOR, \"button[type='submit']\"))).click()\n",
    "print(\"Login Successfull !!\")\n",
    "#We are logged in!"
   ]
  },
  {
   "cell_type": "code",
   "execution_count": 340,
   "id": "ecd4e06b",
   "metadata": {},
   "outputs": [
    {
     "name": "stdout",
     "output_type": "stream",
     "text": [
      "Search: machine learning\n"
     ]
    }
   ],
   "source": [
    "#fins search button element & click it\n",
    "search_button = driver.find_element(\"xpath\",\"(//input[@type='search'])\")\n",
    "search_button.click()\n",
    "\n",
    "time.sleep(2)\n",
    "\n",
    "#Enter input inside the search element & press enter\n",
    "search_str = input(\"Search: \")\n",
    "search_button.send_keys(search_str)\n",
    "\n",
    "time.sleep(1)\n",
    "search_button.send_keys(Keys.ENTER)"
   ]
  },
  {
   "cell_type": "code",
   "execution_count": 341,
   "id": "c83d654a",
   "metadata": {},
   "outputs": [],
   "source": [
    "#find and click the post tab element\n",
    "post_key = driver.find_element(\"xpath\",\"/html/body/div[1]/div/div[1]/div/div[3]/div/div/div[1]/div[1]/div[1]/div/div[2]/div[1]/div[2]/div/div/div[2]/div/div[2]/div/a\")\n",
    "post_key.click()"
   ]
  },
  {
   "cell_type": "code",
   "execution_count": 203,
   "id": "815be2a8",
   "metadata": {},
   "outputs": [],
   "source": [
    "posts = [] # A list that stores the scarped data from displayed posts"
   ]
  },
  {
   "cell_type": "code",
   "execution_count": 331,
   "id": "f030a6a0",
   "metadata": {},
   "outputs": [],
   "source": [
    "# A function that checks of a particular xpath exists or not\n",
    "def check_exists_by_xpath(xpath):\n",
    "    try:\n",
    "        driver.find_element(\"xpath\", xpath)\n",
    "    except NoSuchElementException:\n",
    "        return \"0\"\n",
    "    return driver.find_element(\"xpath\", xpath).text"
   ]
  },
  {
   "cell_type": "code",
   "execution_count": 347,
   "id": "24ca4007",
   "metadata": {},
   "outputs": [
    {
     "name": "stdout",
     "output_type": "stream",
     "text": [
      "Scraping Post 1: \n",
      "Successfull !\n",
      "Scraping Post 2: \n",
      "Successfull !\n",
      "Scraping Post 3: \n",
      "Successfull !\n",
      "Scraping Post 4: \n",
      "Successfull !\n",
      "Scraping Post 5: \n",
      "Successfull !\n",
      "Scraping Post 6: \n",
      "Successfull !\n",
      "Scraping Post 7: \n",
      "Successfull !\n",
      "Scraping Post 8: \n",
      "Successfull !\n",
      "Scraping Post 9: \n",
      "Successfull !\n",
      "Scraping Post 10: \n",
      "Successfull !\n",
      "\n",
      " DONE !!\n"
     ]
    }
   ],
   "source": [
    "for i in range(0,10):\n",
    "    print(\"Scraping Post \"+str(i+1)+\": \")\n",
    "    \n",
    "    #the xpath of the posts\n",
    "    post_xpath = \"/html/body/div[1]/div/div[1]/div/div[3]/div/div/div[1]/div[1]/div[2]/div/div/div/div/div/div[\"+str(i+1)+\"]\"\n",
    "    #the xpath for the 'see more...' button option\n",
    "    see_more_xpath = \"/html/body/div[1]/div/div[1]/div/div[3]/div/div/div[1]/div[1]/div[2]/div/div/div/div/div/div[\"+str(i+1)+\"]/div/div/div/div/div/div/div/div/div/div/div[2]/div/div/div[3]/div[1]/div/div/div/span/div[4]/div/div\"\n",
    "    \n",
    "    #if seen a 'see more...' button, then click it\n",
    "    if check_exists_by_xpath(see_more_xpath)!=\"0\":\n",
    "        driver.find_element(\"xpath\", see_more_xpath).click()\n",
    "    \n",
    "    #the element of post\n",
    "    post_ele = driver.find_element(\"xpath\", post_xpath)\n",
    "    \n",
    "    post_elements = [] # A list that appends post contents, comment no., reaction no, & share no.\n",
    "    post_elements.append(post_ele.text)\n",
    "    \n",
    "    reaction_xpath = \"/html/body/div[1]/div/div[1]/div/div[3]/div/div/div[1]/div[1]/div[2]/div/div/div/div/div/div[\"+str(i+1)+\"]/div/div/div/div/div/div/div/div/div/div/div[2]/div/div/div[4]/div/div/div[1]/div/div[1]/div/div[1]/div/span/div/span[2]/span/span\"\n",
    "    comment_xpath = \"/html/body/div[1]/div/div[1]/div/div[3]/div/div/div[1]/div[1]/div[2]/div/div/div/div/div/div[\"+str(i+1)+\"]/div/div/div/div/div/div/div/div/div/div/div[2]/div/div/div[4]/div/div/div[1]/div/div[1]/div/div[2]/div[2]/span/div/span\"\n",
    "    share_xpath = \"/html/body/div[1]/div/div[1]/div/div[3]/div/div/div[1]/div[1]/div[2]/div/div/div/div/div/div[\"+str(i+1)+\"]/div/div/div/div/div/div/div/div/div/div/div[2]/div/div/div[4]/div/div/div[1]/div/div[1]/div/div[2]/div[3]/span/div/span\"\n",
    " \n",
    "    post_elements.append(check_exists_by_xpath(reaction_xpath))\n",
    "    post_elements.append(check_exists_by_xpath(comment_xpath))\n",
    "    post_elements.append(check_exists_by_xpath(share_xpath))\n",
    "    \n",
    "    \n",
    "    # Iterate through each post element and print its size\n",
    "    post_height = post_ele.size['height']\n",
    "    \n",
    "    \n",
    "    driver.execute_script(\"window.scrollBy(0, \"+str(post_height)+\");\") #Scrolls down one post at a time\n",
    "    time.sleep(4)  # Wait for the page to load the next post\n",
    "    \n",
    "    posts.append(post_elements)\n",
    "    print(\"Successfull !\")\n",
    "\n",
    "print(\"\\n DONE !!\")"
   ]
  },
  {
   "cell_type": "code",
   "execution_count": 348,
   "id": "0331d5ab",
   "metadata": {},
   "outputs": [
    {
     "data": {
      "text/plain": [
       "[['MACHINE LEARNING AND ARTIFICIAL INTELLIGENCE PROFESSIONALS GROUP\\n  ·\\nJoin\\nBhaskara Reddy S\\n  · 22 h\\n  ·\\nTime complexity of popular machine learning algorithms\\nAll reactions:\\n102\\n102\\n54 shares\\nLike\\nShare\\nBhaskara Reddy S turned off commenting for this post.',\n",
       "  '102',\n",
       "  '0',\n",
       "  '0'],\n",
       " ['Mursalin Ahmed Pranto\\n17 h\\n  ·\\nData science & Machine learning\\nHow to train data Model\\nUsing NLP from nltk library text preprocessing.\\n#datascience #machinelearning #python \\n#DataTraining\\n0:09 / 28:36\\nAll reactions:\\n47\\n47\\n8 comments\\n16 shares\\nLike\\nShare',\n",
       "  '47',\n",
       "  '8 comments',\n",
       "  '16 shares'],\n",
       " ['Artificial intelligence, Machine learning, Deep learning\\n  ·\\nJoin\\nAina Asif\\n  · 15 h\\n  ·\\nTime complexity of popular machine learning algorithms\\nAll reactions:\\n53\\n53\\n2 comments\\n58 shares\\nLike\\nComment\\nShare',\n",
       "  '53',\n",
       "  '2 comments',\n",
       "  '58 shares'],\n",
       " ['MACHINE LEARNING AND ARTIFICIAL INTELLIGENCE PROFESSIONALS GROUP\\n  ·\\nJoin\\nBhaskara Reddy S\\n  · 10 March at 16:12\\n  ·\\nFree Artificial intelligence , Machine Learning , Data Science learning resources\\nhttps://www.linkedin.com/.../web3schools_free-aiml-llm...\\nAll reactions:\\n192\\n192\\n138 shares\\nLike\\nShare\\nBhaskara Reddy S turned off commenting for this post.',\n",
       "  '192',\n",
       "  '0',\n",
       "  '0'],\n",
       " ['Debugzilla ( Python, Django, JavaScript, React, Machine learning)\\n  ·\\nJoin\\nEngr Umair\\n  · 7 h\\n  ·\\nLearn Machine Learning Free from Udemy\\nLearn more: https://debugzilla.com/free-programming-resources\\nHappy coding\\n… See more\\nAll reactions:\\n1\\n1\\n8 comments\\n22 shares\\nLike\\nComment\\nShare',\n",
       "  '1',\n",
       "  '8 comments',\n",
       "  '22 shares'],\n",
       " ['Artificial intelligence, Machine learning, Deep learning\\n  ·\\nJoin\\nZaheer Alam\\n  · 16 March at 13:10\\n  ·\\nMachine Learning Cheat Sheet Quick Learning.\\nGet Full Notes >> https://rb.gy/51ng5g\\n+5\\nAll reactions:\\n161\\n161\\n2 comments\\n160 shares\\nLike\\nComment\\nShare',\n",
       "  '161',\n",
       "  '2 comments',\n",
       "  '160 shares'],\n",
       " ['Artificial intelligence, Machine learning, Deep learning\\n  ·\\nJoin\\nSiddhardhan\\n  · 11 h\\n  ·\\nAutomating ML model training with No-Code streamlit app: https://youtu.be/jgNTIqNznB0\\nMachine Learning Projects\\nAll reactions:\\n6\\n6\\n6 shares\\nLike\\nComment\\nShare\\n\\nWrite a public comment…',\n",
       "  '6',\n",
       "  '0',\n",
       "  '0'],\n",
       " ['MACHINE LEARNING AND ARTIFICIAL INTELLIGENCE PROFESSIONALS GROUP\\n  ·\\nJoin\\nBhaskara Reddy S\\n  · 7 March at 08:08\\n  ·\\nSelf guide to become a Data Analyst\\nAll reactions:\\n88\\n88\\n50 shares\\nLike\\nComment\\nShare\\n\\nWrite a public comment…',\n",
       "  '88',\n",
       "  '0',\n",
       "  '0'],\n",
       " ['Deep Learning and Machine Learning\\n  ·\\nJoin\\nAina Asif\\n  · 15 h\\n  ·\\nTime complexity of popular machine learning algorithms\\nAll reactions:\\n8\\n8\\n6 shares\\nLike\\nComment\\nShare\\n\\nWrite a public comment…',\n",
       "  '8',\n",
       "  '0',\n",
       "  '0'],\n",
       " ['Artificial intelligence, Machine learning, Deep learning\\n  ·\\nJoin\\nNaeem Akhtar\\n  · 28 February at 16:00\\n  ·\\nMy Best Ever Machine learning Books Collection. \\nThese PDF,s link. https://rb.gy/zkxm85\\nAll of These are free of cost.\\nAll reactions:\\n50\\n50\\n53 comments\\n10 shares\\nLike\\nComment\\nShare',\n",
       "  '50',\n",
       "  '53 comments',\n",
       "  '10 shares']]"
      ]
     },
     "execution_count": 348,
     "metadata": {},
     "output_type": "execute_result"
    }
   ],
   "source": [
    "posts"
   ]
  },
  {
   "cell_type": "code",
   "execution_count": 349,
   "id": "4319685a",
   "metadata": {},
   "outputs": [],
   "source": [
    "import pandas as pd"
   ]
  },
  {
   "cell_type": "code",
   "execution_count": 350,
   "id": "25a6e88c",
   "metadata": {},
   "outputs": [],
   "source": [
    "# Define column names for the DataFrame\n",
    "columns = ['post_contents', 'reactions', 'comments', 'shares']"
   ]
  },
  {
   "cell_type": "code",
   "execution_count": 352,
   "id": "64b233fa",
   "metadata": {},
   "outputs": [
    {
     "name": "stdout",
     "output_type": "stream",
     "text": [
      "                                       post_contents reactions     comments  \\\n",
      "0  MACHINE LEARNING AND ARTIFICIAL INTELLIGENCE P...       102            0   \n",
      "1  Mursalin Ahmed Pranto\\n17 h\\n  ·\\nData science...        47   8 comments   \n",
      "2  Artificial intelligence, Machine learning, Dee...        53   2 comments   \n",
      "3  MACHINE LEARNING AND ARTIFICIAL INTELLIGENCE P...       192            0   \n",
      "4  Debugzilla ( Python, Django, JavaScript, React...         1   8 comments   \n",
      "5  Artificial intelligence, Machine learning, Dee...       161   2 comments   \n",
      "6  Artificial intelligence, Machine learning, Dee...         6            0   \n",
      "7  MACHINE LEARNING AND ARTIFICIAL INTELLIGENCE P...        88            0   \n",
      "8  Deep Learning and Machine Learning\\n  ·\\nJoin\\...         8            0   \n",
      "9  Artificial intelligence, Machine learning, Dee...        50  53 comments   \n",
      "\n",
      "       shares  \n",
      "0           0  \n",
      "1   16 shares  \n",
      "2   58 shares  \n",
      "3           0  \n",
      "4   22 shares  \n",
      "5  160 shares  \n",
      "6           0  \n",
      "7           0  \n",
      "8           0  \n",
      "9   10 shares  \n"
     ]
    }
   ],
   "source": [
    "# Create DataFrame\n",
    "df = pd.DataFrame(posts, columns=columns)\n",
    "\n",
    "# Display the DataFrame\n",
    "print(df)"
   ]
  },
  {
   "cell_type": "code",
   "execution_count": null,
   "id": "2f439933",
   "metadata": {},
   "outputs": [],
   "source": []
  }
 ],
 "metadata": {
  "kernelspec": {
   "display_name": "Python 3 (ipykernel)",
   "language": "python",
   "name": "python3"
  },
  "language_info": {
   "codemirror_mode": {
    "name": "ipython",
    "version": 3
   },
   "file_extension": ".py",
   "mimetype": "text/x-python",
   "name": "python",
   "nbconvert_exporter": "python",
   "pygments_lexer": "ipython3",
   "version": "3.11.5"
  }
 },
 "nbformat": 4,
 "nbformat_minor": 5
}
